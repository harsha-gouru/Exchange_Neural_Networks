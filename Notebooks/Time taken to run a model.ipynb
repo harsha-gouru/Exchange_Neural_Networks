{
  "nbformat": 4,
  "nbformat_minor": 0,
  "metadata": {
    "colab": {
      "name": "Untitled53.ipynb",
      "provenance": []
    },
    "kernelspec": {
      "name": "python3",
      "display_name": "Python 3"
    },
    "language_info": {
      "name": "python"
    }
  },
  "cells": [
    {
      "cell_type": "code",
      "source": [
        "#import the necessary packages\n",
        "from tensorflow.keras.applications import VGG16\n",
        "import tensorflow as tf\n"
      ],
      "metadata": {
        "id": "sQnG8Ci7gbby"
      },
      "execution_count": 13,
      "outputs": []
    },
    {
      "cell_type": "code",
      "source": [
        "#load the pretrained model\n",
        "pretrained_model = VGG16(weights = 'imagenet',\n",
        "                        include_top = False,\n",
        "                        input_shape = (224, 224, 3))\n",
        "                    "
      ],
      "metadata": {
        "colab": {
          "base_uri": "https://localhost:8080/"
        },
        "id": "2gSLMWFBiOLB",
        "outputId": "b64765cb-27ae-4d7b-eda9-c0d485b4f259"
      },
      "execution_count": 14,
      "outputs": [
        {
          "output_type": "stream",
          "name": "stdout",
          "text": [
            "Downloading data from https://storage.googleapis.com/tensorflow/keras-applications/vgg16/vgg16_weights_tf_dim_ordering_tf_kernels_notop.h5\n",
            "58892288/58889256 [==============================] - 1s 0us/step\n",
            "58900480/58889256 [==============================] - 1s 0us/step\n"
          ]
        }
      ]
    },
    {
      "cell_type": "code",
      "source": [
        "#print the layers of the pretrained model\n",
        "for layer in pretrained_model.layers:\n",
        "    print(layer, layer.trainable)\n"
      ],
      "metadata": {
        "colab": {
          "base_uri": "https://localhost:8080/"
        },
        "id": "_ApB_MR2iRrA",
        "outputId": "ca9f5ce1-ca0f-4a89-b9e8-caa41b7418ad"
      },
      "execution_count": 15,
      "outputs": [
        {
          "output_type": "stream",
          "name": "stdout",
          "text": [
            "<keras.engine.input_layer.InputLayer object at 0x7f62d0fd7ed0> True\n",
            "<keras.layers.convolutional.Conv2D object at 0x7f62d06b3fd0> True\n",
            "<keras.layers.convolutional.Conv2D object at 0x7f62d06559d0> True\n",
            "<keras.layers.pooling.MaxPooling2D object at 0x7f62d05f4050> True\n",
            "<keras.layers.convolutional.Conv2D object at 0x7f62cd6bd750> True\n",
            "<keras.layers.convolutional.Conv2D object at 0x7f62cd6bdc10> True\n",
            "<keras.layers.pooling.MaxPooling2D object at 0x7f62cd6ca950> True\n",
            "<keras.layers.convolutional.Conv2D object at 0x7f62cd6cb810> True\n",
            "<keras.layers.convolutional.Conv2D object at 0x7f62cd6d6890> True\n",
            "<keras.layers.convolutional.Conv2D object at 0x7f62cd6ca910> True\n",
            "<keras.layers.pooling.MaxPooling2D object at 0x7f62cd6dd490> True\n",
            "<keras.layers.convolutional.Conv2D object at 0x7f62d0655990> True\n",
            "<keras.layers.convolutional.Conv2D object at 0x7f62d0655090> True\n",
            "<keras.layers.convolutional.Conv2D object at 0x7f62cd66b510> True\n",
            "<keras.layers.pooling.MaxPooling2D object at 0x7f62cd673610> True\n",
            "<keras.layers.convolutional.Conv2D object at 0x7f62cd66e310> True\n",
            "<keras.layers.convolutional.Conv2D object at 0x7f62cd661e90> True\n",
            "<keras.layers.convolutional.Conv2D object at 0x7f62cd67f790> True\n",
            "<keras.layers.pooling.MaxPooling2D object at 0x7f62cd684710> True\n"
          ]
        }
      ]
    },
    {
      "cell_type": "code",
      "source": [
        "start_time = time.time()\n",
        "prediction = pretrained_model.predict(tf.random.normal((1, 224, 224, 3)))\n",
        "end_time = time.time()\n",
        "print(\"Time taken to execute the model:\", end_time - start_time)"
      ],
      "metadata": {
        "colab": {
          "base_uri": "https://localhost:8080/"
        },
        "id": "Q9VQm7gZi68N",
        "outputId": "39fc6f1e-727a-4ec0-bff6-4f4ea03d2bd8"
      },
      "execution_count": 25,
      "outputs": [
        {
          "output_type": "stream",
          "name": "stdout",
          "text": [
            "Time taken to execute the model: 2.0347776412963867\n"
          ]
        }
      ]
    }
  ]
}